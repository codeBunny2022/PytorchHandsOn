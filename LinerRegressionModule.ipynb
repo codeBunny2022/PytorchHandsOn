{
  "nbformat": 4,
  "nbformat_minor": 0,
  "metadata": {
    "colab": {
      "provenance": [],
      "gpuType": "T4"
    },
    "kernelspec": {
      "name": "python3",
      "display_name": "Python 3"
    },
    "language_info": {
      "name": "python"
    },
    "accelerator": "GPU"
  },
  "cells": [
    {
      "cell_type": "code",
      "execution_count": 1,
      "metadata": {
        "id": "51-33ejQa9JD"
      },
      "outputs": [],
      "source": [
        "import torch\n",
        "from torch import nn\n",
        "import numpy as np\n",
        "import matplotlib.pyplot as plt"
      ]
    },
    {
      "cell_type": "code",
      "source": [
        "#create known parameters\n",
        "weight =0.7\n",
        "bias=0.3\n",
        "\n",
        "start=0\n",
        "end=1\n",
        "step=0.02\n",
        "\n",
        "data=torch.arange(start,end,step).unsqueeze(dim=1)\n",
        "label=weight*data+bias"
      ],
      "metadata": {
        "id": "mHccJBXibBuo"
      },
      "execution_count": 2,
      "outputs": []
    },
    {
      "cell_type": "code",
      "source": [
        "#creating partitoned training set and test set\n",
        "train_split=int(0.8*len(data))\n",
        "#training set\n",
        "train_data=data[:train_split]\n",
        "train_label=label[:train_split]\n",
        "#test set\n",
        "test_data=data[train_split:]\n",
        "test_label=label[train_split:]\n"
      ],
      "metadata": {
        "id": "v6DjH-bdbB_W"
      },
      "execution_count": 3,
      "outputs": []
    },
    {
      "cell_type": "code",
      "source": [
        "len(train_data),len(train_label),len(test_data),len(test_label)"
      ],
      "metadata": {
        "colab": {
          "base_uri": "https://localhost:8080/"
        },
        "id": "zrDDe7MIf1j2",
        "outputId": "c823d816-a8ec-4626-dcbc-25e1ea943454"
      },
      "execution_count": 4,
      "outputs": [
        {
          "output_type": "execute_result",
          "data": {
            "text/plain": [
              "(40, 40, 10, 10)"
            ]
          },
          "metadata": {},
          "execution_count": 4
        }
      ]
    },
    {
      "cell_type": "code",
      "source": [
        "#function to plot data\n",
        "def plot_pred(test_data=test_data,\n",
        "              train_data=train_data,\n",
        "              test_label=test_label,\n",
        "              train_label=train_label,\n",
        "              predictions=None):\n",
        "  plt.figure(figsize=(8,5))\n",
        "  plt.scatter(train_data,train_label,c=\"r\",s=4,label=\"train_data\")\n",
        "  plt.scatter(test_data,test_label,c=\"g\",s=4,label=\"test_data\")\n",
        "\n",
        "  if predictions is not None:\n",
        "    plt.scatter(test_data,predictions,c=\"b\",s=4,label=\"predictions\")\n",
        "\n",
        "  plt.legend(prop={\"size\":10})"
      ],
      "metadata": {
        "id": "BRs5Cu8jf1mc"
      },
      "execution_count": 5,
      "outputs": []
    },
    {
      "cell_type": "code",
      "source": [
        "plot_pred()"
      ],
      "metadata": {
        "colab": {
          "base_uri": "https://localhost:8080/",
          "height": 445
        },
        "id": "Tk99_ReIf1o9",
        "outputId": "ff86e2fc-43ab-4c70-d55a-147bc56b4bf0"
      },
      "execution_count": 6,
      "outputs": [
        {
          "output_type": "display_data",
          "data": {
            "text/plain": [
              "<Figure size 800x500 with 1 Axes>"
            ],
            "image/png": "[encoded data removed]"
          },
          "metadata": {}
        }
      ]
    },
    {
      "cell_type": "code",
      "source": [
        "#creating linear regression module\n",
        "class LinearRegressionModule(nn.Module):\n",
        "  def __init__(self):\n",
        "    super().__init__()\n",
        "\n",
        "    self.weights=nn.Parameter(torch.rand(1,dtype=torch.float),requires_grad=True)\n",
        "    self.bias=nn.Parameter(torch.rand(1,dtype=torch.float),requires_grad=True)\n",
        "    #overwriting forward function\n",
        "  def forward(self,val:torch.Tensor)->torch.Tensor:\n",
        "    return self.weights * val + self.bias"
      ],
      "metadata": {
        "id": "pHJ59B66f1rF"
      },
      "execution_count": 7,
      "outputs": []
    },
    {
      "cell_type": "code",
      "source": [
        "#creating model instance\n",
        "torch.manual_seed=42\n",
        "model_0=LinearRegressionModule()\n",
        "\n",
        "list(model_0.parameters())"
      ],
      "metadata": {
        "colab": {
          "base_uri": "https://localhost:8080/"
        },
        "id": "KBLBo5BVns19",
        "outputId": "7f632f16-ad3e-4a35-9d16-735d663df047"
      },
      "execution_count": 8,
      "outputs": [
        {
          "output_type": "execute_result",
          "data": {
            "text/plain": [
              "[Parameter containing:\n",
              " tensor([0.6815], requires_grad=True),\n",
              " Parameter containing:\n",
              " tensor([0.5850], requires_grad=True)]"
            ]
          },
          "metadata": {},
          "execution_count": 8
        }
      ]
    },
    {
      "cell_type": "code",
      "source": [
        "model_0.state_dict()"
      ],
      "metadata": {
        "colab": {
          "base_uri": "https://localhost:8080/"
        },
        "id": "vlNFHDBTk0vY",
        "outputId": "46f11b47-a99b-4586-99bd-4ba1903851b1"
      },
      "execution_count": 9,
      "outputs": [
        {
          "output_type": "execute_result",
          "data": {
            "text/plain": [
              "OrderedDict([('weights', tensor([0.6815])), ('bias', tensor([0.5850]))])"
            ]
          },
          "metadata": {},
          "execution_count": 9
        }
      ]
    },
    {
      "cell_type": "code",
      "source": [
        "with torch.inference_mode():\n",
        "  pred_val=model_0(test_data)"
      ],
      "metadata": {
        "id": "m-OAKMrv1rz1"
      },
      "execution_count": 10,
      "outputs": []
    },
    {
      "cell_type": "code",
      "source": [
        "print(f\"Number of testing samples: {len(test_data)}\")\n",
        "print(f\"Number of predictions made: {len(pred_val)}\")\n",
        "print(f\"Predicted values:\\n{pred_val}\")"
      ],
      "metadata": {
        "colab": {
          "base_uri": "https://localhost:8080/"
        },
        "id": "9csEVCbclk6u",
        "outputId": "aaa48720-51e6-4ca5-803a-3acdb7b26e11"
      },
      "execution_count": 11,
      "outputs": [
        {
          "output_type": "stream",
          "name": "stdout",
          "text": [
            "Number of testing samples: 10\n",
            "Number of predictions made: 10\n",
            "Predicted values:\n",
            "tensor([[1.1302],\n",
            "        [1.1438],\n",
            "        [1.1575],\n",
            "        [1.1711],\n",
            "        [1.1847],\n",
            "        [1.1984],\n",
            "        [1.2120],\n",
            "        [1.2256],\n",
            "        [1.2393],\n",
            "        [1.2529]])\n"
          ]
        }
      ]
    },
    {
      "cell_type": "code",
      "source": [
        "plot_pred(predictions=pred_val)"
      ],
      "metadata": {
        "colab": {
          "base_uri": "https://localhost:8080/",
          "height": 445
        },
        "id": "ojdIgy3Nh428",
        "outputId": "c730594f-1c2e-4b3c-b0f3-511fe149ec04"
      },
      "execution_count": 12,
      "outputs": [
        {
          "output_type": "display_data",
          "data": {
            "text/plain": [
              "<Figure size 800x500 with 1 Axes>"
            ],
            "image/png": "[encoded data removed]"
          },
          "metadata": {}
        }
      ]
    },
    {
      "cell_type": "code",
      "source": [
        "test_label-pred_val"
      ],
      "metadata": {
        "colab": {
          "base_uri": "https://localhost:8080/"
        },
        "id": "e8CIGz1SmUVC",
        "outputId": "6f6b9c9b-e1fe-4b42-a024-749e080996c3"
      },
      "execution_count": 13,
      "outputs": [
        {
          "output_type": "execute_result",
          "data": {
            "text/plain": [
              "tensor([[-0.2702],\n",
              "        [-0.2698],\n",
              "        [-0.2695],\n",
              "        [-0.2691],\n",
              "        [-0.2687],\n",
              "        [-0.2684],\n",
              "        [-0.2680],\n",
              "        [-0.2676],\n",
              "        [-0.2673],\n",
              "        [-0.2669]])"
            ]
          },
          "metadata": {},
          "execution_count": 13
        }
      ]
    },
    {
      "cell_type": "code",
      "source": [
        "#creating loss function and optimiser and implementing in training loop\n",
        "loss_fn=nn.L1Loss()\n",
        "optimiser=torch.optim.SGD(params=model_0.parameters(),lr=0.1)\n",
        "\n",
        "torch.manual_seed=42\n",
        "epochs=2000\n",
        "#empty values to keep track\n",
        "train_loss_values = []\n",
        "test_loss_values = []\n",
        "epoch_count = []\n",
        "\n",
        "for epoch in range(epochs):\n",
        "  model_0.train()\n",
        "  pred_val=model_0(train_data)\n",
        "  loss=loss_fn(pred_val,train_data)\n",
        "  optimiser.zero_grad()\n",
        "  loss.backward()\n",
        "  optimiser.step()\n",
        "\n",
        "  model_0.eval()\n",
        "  with torch.inference_mode():\n",
        "      # 1. Forward pass on test data\n",
        "      test_pred = model_0(test_data)\n",
        "\n",
        "      # 2. Caculate loss on test data\n",
        "      test_loss = loss_fn(test_pred, test_label.type(torch.float))\n",
        "      if epoch % 10 == 0:\n",
        "          epoch_count.append(epoch)\n",
        "          train_loss_values.append(loss.detach().numpy())\n",
        "          test_loss_values.append(test_loss.detach().numpy())\n",
        "          print(f\"Epoch: {epoch} | MAE Train Loss: {loss} | MAE Test Loss: {test_loss} \")"
      ],
      "metadata": {
        "id": "lA1TRaXJ1r4r",
        "colab": {
          "base_uri": "https://localhost:8080/"
        },
        "outputId": "91fe8d2b-3a84-47db-9139-066cbecbe192"
      },
      "execution_count": 14,
      "outputs": [
        {
          "output_type": "stream",
          "name": "stdout",
          "text": [
            "Epoch: 0 | MAE Train Loss: 0.46077975630760193 | MAE Test Loss: 0.13384178280830383 \n",
            "Epoch: 10 | MAE Train Loss: 0.07207493484020233 | MAE Test Loss: 0.19129517674446106 \n",
            "Epoch: 20 | MAE Train Loss: 0.03775552660226822 | MAE Test Loss: 0.11544005572795868 \n",
            "Epoch: 30 | MAE Train Loss: 0.049099151045084 | MAE Test Loss: 0.017661988735198975 \n",
            "Epoch: 40 | MAE Train Loss: 0.049099151045084 | MAE Test Loss: 0.017661988735198975 \n",
            "Epoch: 50 | MAE Train Loss: 0.049099151045084 | MAE Test Loss: 0.017661988735198975 \n",
            "Epoch: 60 | MAE Train Loss: 0.049099151045084 | MAE Test Loss: 0.017661988735198975 \n",
            "Epoch: 70 | MAE Train Loss: 0.049099151045084 | MAE Test Loss: 0.017661988735198975 \n",
            "Epoch: 80 | MAE Train Loss: 0.049099151045084 | MAE Test Loss: 0.017661988735198975 \n",
            "Epoch: 90 | MAE Train Loss: 0.049099151045084 | MAE Test Loss: 0.017661988735198975 \n",
            "Epoch: 100 | MAE Train Loss: 0.049099151045084 | MAE Test Loss: 0.017661988735198975 \n",
            "Epoch: 110 | MAE Train Loss: 0.049099151045084 | MAE Test Loss: 0.017661988735198975 \n",
            "Epoch: 120 | MAE Train Loss: 0.049099151045084 | MAE Test Loss: 0.017661988735198975 \n",
            "Epoch: 130 | MAE Train Loss: 0.049099151045084 | MAE Test Loss: 0.017661988735198975 \n",
            "Epoch: 140 | MAE Train Loss: 0.049099151045084 | MAE Test Loss: 0.017661988735198975 \n",
            "Epoch: 150 | MAE Train Loss: 0.049099151045084 | MAE Test Loss: 0.017661988735198975 \n",
            "Epoch: 160 | MAE Train Loss: 0.049099151045084 | MAE Test Loss: 0.017661988735198975 \n",
            "Epoch: 170 | MAE Train Loss: 0.049099151045084 | MAE Test Loss: 0.017661988735198975 \n",
            "Epoch: 180 | MAE Train Loss: 0.049099151045084 | MAE Test Loss: 0.017661988735198975 \n",
            "Epoch: 190 | MAE Train Loss: 0.049099151045084 | MAE Test Loss: 0.017661988735198975 \n",
            "Epoch: 200 | MAE Train Loss: 0.049099151045084 | MAE Test Loss: 0.017661988735198975 \n",
            "Epoch: 210 | MAE Train Loss: 0.049099151045084 | MAE Test Loss: 0.017661988735198975 \n",
            "Epoch: 220 | MAE Train Loss: 0.049099151045084 | MAE Test Loss: 0.017661988735198975 \n",
            "Epoch: 230 | MAE Train Loss: 0.049099151045084 | MAE Test Loss: 0.017661988735198975 \n",
            "Epoch: 240 | MAE Train Loss: 0.049099151045084 | MAE Test Loss: 0.017661988735198975 \n",
            "Epoch: 250 | MAE Train Loss: 0.049099151045084 | MAE Test Loss: 0.017661988735198975 \n",
            "Epoch: 260 | MAE Train Loss: 0.049099151045084 | MAE Test Loss: 0.017661988735198975 \n",
            "Epoch: 270 | MAE Train Loss: 0.049099151045084 | MAE Test Loss: 0.017661988735198975 \n",
            "Epoch: 280 | MAE Train Loss: 0.049099151045084 | MAE Test Loss: 0.017661988735198975 \n",
            "Epoch: 290 | MAE Train Loss: 0.049099151045084 | MAE Test Loss: 0.017661988735198975 \n",
            "Epoch: 300 | MAE Train Loss: 0.049099151045084 | MAE Test Loss: 0.017661988735198975 \n",
            "Epoch: 310 | MAE Train Loss: 0.049099151045084 | MAE Test Loss: 0.017661988735198975 \n",
            "Epoch: 320 | MAE Train Loss: 0.049099151045084 | MAE Test Loss: 0.017661988735198975 \n",
            "Epoch: 330 | MAE Train Loss: 0.049099151045084 | MAE Test Loss: 0.017661988735198975 \n",
            "Epoch: 340 | MAE Train Loss: 0.049099151045084 | MAE Test Loss: 0.017661988735198975 \n",
            "Epoch: 350 | MAE Train Loss: 0.049099151045084 | MAE Test Loss: 0.017661988735198975 \n",
            "Epoch: 360 | MAE Train Loss: 0.049099151045084 | MAE Test Loss: 0.017661988735198975 \n",
            "Epoch: 370 | MAE Train Loss: 0.049099151045084 | MAE Test Loss: 0.017661988735198975 \n",
            "Epoch: 380 | MAE Train Loss: 0.049099151045084 | MAE Test Loss: 0.017661988735198975 \n",
            "Epoch: 390 | MAE Train Loss: 0.049099151045084 | MAE Test Loss: 0.017661988735198975 \n",
            "Epoch: 400 | MAE Train Loss: 0.049099151045084 | MAE Test Loss: 0.017661988735198975 \n",
            "Epoch: 410 | MAE Train Loss: 0.049099151045084 | MAE Test Loss: 0.017661988735198975 \n",
            "Epoch: 420 | MAE Train Loss: 0.049099151045084 | MAE Test Loss: 0.017661988735198975 \n",
            "Epoch: 430 | MAE Train Loss: 0.049099151045084 | MAE Test Loss: 0.017661988735198975 \n",
            "Epoch: 440 | MAE Train Loss: 0.049099151045084 | MAE Test Loss: 0.017661988735198975 \n",
            "Epoch: 450 | MAE Train Loss: 0.049099151045084 | MAE Test Loss: 0.017661988735198975 \n",
            "Epoch: 460 | MAE Train Loss: 0.049099151045084 | MAE Test Loss: 0.017661988735198975 \n",
            "Epoch: 470 | MAE Train Loss: 0.049099151045084 | MAE Test Loss: 0.017661988735198975 \n",
            "Epoch: 480 | MAE Train Loss: 0.049099151045084 | MAE Test Loss: 0.017661988735198975 \n",
            "Epoch: 490 | MAE Train Loss: 0.049099151045084 | MAE Test Loss: 0.017661988735198975 \n",
            "Epoch: 500 | MAE Train Loss: 0.049099151045084 | MAE Test Loss: 0.017661988735198975 \n",
            "Epoch: 510 | MAE Train Loss: 0.049099151045084 | MAE Test Loss: 0.017661988735198975 \n",
            "Epoch: 520 | MAE Train Loss: 0.049099151045084 | MAE Test Loss: 0.017661988735198975 \n",
            "Epoch: 530 | MAE Train Loss: 0.049099151045084 | MAE Test Loss: 0.017661988735198975 \n",
            "Epoch: 540 | MAE Train Loss: 0.049099151045084 | MAE Test Loss: 0.017661988735198975 \n",
            "Epoch: 550 | MAE Train Loss: 0.049099151045084 | MAE Test Loss: 0.017661988735198975 \n",
            "Epoch: 560 | MAE Train Loss: 0.049099151045084 | MAE Test Loss: 0.017661988735198975 \n",
            "Epoch: 570 | MAE Train Loss: 0.049099151045084 | MAE Test Loss: 0.017661988735198975 \n",
            "Epoch: 580 | MAE Train Loss: 0.049099151045084 | MAE Test Loss: 0.017661988735198975 \n",
            "Epoch: 590 | MAE Train Loss: 0.049099151045084 | MAE Test Loss: 0.017661988735198975 \n",
            "Epoch: 600 | MAE Train Loss: 0.049099151045084 | MAE Test Loss: 0.017661988735198975 \n",
            "Epoch: 610 | MAE Train Loss: 0.049099151045084 | MAE Test Loss: 0.017661988735198975 \n",
            "Epoch: 620 | MAE Train Loss: 0.049099151045084 | MAE Test Loss: 0.017661988735198975 \n",
            "Epoch: 630 | MAE Train Loss: 0.049099151045084 | MAE Test Loss: 0.017661988735198975 \n",
            "Epoch: 640 | MAE Train Loss: 0.049099151045084 | MAE Test Loss: 0.017661988735198975 \n",
            "Epoch: 650 | MAE Train Loss: 0.049099151045084 | MAE Test Loss: 0.017661988735198975 \n",
            "Epoch: 660 | MAE Train Loss: 0.049099151045084 | MAE Test Loss: 0.017661988735198975 \n",
            "Epoch: 670 | MAE Train Loss: 0.049099151045084 | MAE Test Loss: 0.017661988735198975 \n",
            "Epoch: 680 | MAE Train Loss: 0.049099151045084 | MAE Test Loss: 0.017661988735198975 \n",
            "Epoch: 690 | MAE Train Loss: 0.049099151045084 | MAE Test Loss: 0.017661988735198975 \n",
            "Epoch: 700 | MAE Train Loss: 0.049099151045084 | MAE Test Loss: 0.017661988735198975 \n",
            "Epoch: 710 | MAE Train Loss: 0.049099151045084 | MAE Test Loss: 0.017661988735198975 \n",
            "Epoch: 720 | MAE Train Loss: 0.049099151045084 | MAE Test Loss: 0.017661988735198975 \n",
            "Epoch: 730 | MAE Train Loss: 0.049099151045084 | MAE Test Loss: 0.017661988735198975 \n",
            "Epoch: 740 | MAE Train Loss: 0.049099151045084 | MAE Test Loss: 0.017661988735198975 \n",
            "Epoch: 750 | MAE Train Loss: 0.049099151045084 | MAE Test Loss: 0.017661988735198975 \n",
            "Epoch: 760 | MAE Train Loss: 0.049099151045084 | MAE Test Loss: 0.017661988735198975 \n",
            "Epoch: 770 | MAE Train Loss: 0.049099151045084 | MAE Test Loss: 0.017661988735198975 \n",
            "Epoch: 780 | MAE Train Loss: 0.049099151045084 | MAE Test Loss: 0.017661988735198975 \n",
            "Epoch: 790 | MAE Train Loss: 0.049099151045084 | MAE Test Loss: 0.017661988735198975 \n",
            "Epoch: 800 | MAE Train Loss: 0.049099151045084 | MAE Test Loss: 0.017661988735198975 \n",
            "Epoch: 810 | MAE Train Loss: 0.049099151045084 | MAE Test Loss: 0.017661988735198975 \n",
            "Epoch: 820 | MAE Train Loss: 0.049099151045084 | MAE Test Loss: 0.017661988735198975 \n",
            "Epoch: 830 | MAE Train Loss: 0.049099151045084 | MAE Test Loss: 0.017661988735198975 \n",
            "Epoch: 840 | MAE Train Loss: 0.049099151045084 | MAE Test Loss: 0.017661988735198975 \n",
            "Epoch: 850 | MAE Train Loss: 0.049099151045084 | MAE Test Loss: 0.017661988735198975 \n",
            "Epoch: 860 | MAE Train Loss: 0.049099151045084 | MAE Test Loss: 0.017661988735198975 \n",
            "Epoch: 870 | MAE Train Loss: 0.049099151045084 | MAE Test Loss: 0.017661988735198975 \n",
            "Epoch: 880 | MAE Train Loss: 0.049099151045084 | MAE Test Loss: 0.017661988735198975 \n",
            "Epoch: 890 | MAE Train Loss: 0.049099151045084 | MAE Test Loss: 0.017661988735198975 \n",
            "Epoch: 900 | MAE Train Loss: 0.049099151045084 | MAE Test Loss: 0.017661988735198975 \n",
            "Epoch: 910 | MAE Train Loss: 0.049099151045084 | MAE Test Loss: 0.017661988735198975 \n",
            "Epoch: 920 | MAE Train Loss: 0.049099151045084 | MAE Test Loss: 0.017661988735198975 \n",
            "Epoch: 930 | MAE Train Loss: 0.049099151045084 | MAE Test Loss: 0.017661988735198975 \n",
            "Epoch: 940 | MAE Train Loss: 0.049099151045084 | MAE Test Loss: 0.017661988735198975 \n",
            "Epoch: 950 | MAE Train Loss: 0.049099151045084 | MAE Test Loss: 0.017661988735198975 \n",
            "Epoch: 960 | MAE Train Loss: 0.049099151045084 | MAE Test Loss: 0.017661988735198975 \n",
            "Epoch: 970 | MAE Train Loss: 0.049099151045084 | MAE Test Loss: 0.017661988735198975 \n",
            "Epoch: 980 | MAE Train Loss: 0.049099151045084 | MAE Test Loss: 0.017661988735198975 \n",
            "Epoch: 990 | MAE Train Loss: 0.049099151045084 | MAE Test Loss: 0.017661988735198975 \n",
            "Epoch: 1000 | MAE Train Loss: 0.049099151045084 | MAE Test Loss: 0.017661988735198975 \n",
            "Epoch: 1010 | MAE Train Loss: 0.049099151045084 | MAE Test Loss: 0.017661988735198975 \n",
            "Epoch: 1020 | MAE Train Loss: 0.049099151045084 | MAE Test Loss: 0.017661988735198975 \n",
            "Epoch: 1030 | MAE Train Loss: 0.049099151045084 | MAE Test Loss: 0.017661988735198975 \n",
            "Epoch: 1040 | MAE Train Loss: 0.049099151045084 | MAE Test Loss: 0.017661988735198975 \n",
            "Epoch: 1050 | MAE Train Loss: 0.049099151045084 | MAE Test Loss: 0.017661988735198975 \n",
            "Epoch: 1060 | MAE Train Loss: 0.049099151045084 | MAE Test Loss: 0.017661988735198975 \n",
            "Epoch: 1070 | MAE Train Loss: 0.049099151045084 | MAE Test Loss: 0.017661988735198975 \n",
            "Epoch: 1080 | MAE Train Loss: 0.049099151045084 | MAE Test Loss: 0.017661988735198975 \n",
            "Epoch: 1090 | MAE Train Loss: 0.049099151045084 | MAE Test Loss: 0.017661988735198975 \n",
            "Epoch: 1100 | MAE Train Loss: 0.049099151045084 | MAE Test Loss: 0.017661988735198975 \n",
            "Epoch: 1110 | MAE Train Loss: 0.049099151045084 | MAE Test Loss: 0.017661988735198975 \n",
            "Epoch: 1120 | MAE Train Loss: 0.049099151045084 | MAE Test Loss: 0.017661988735198975 \n",
            "Epoch: 1130 | MAE Train Loss: 0.049099151045084 | MAE Test Loss: 0.017661988735198975 \n",
            "Epoch: 1140 | MAE Train Loss: 0.049099151045084 | MAE Test Loss: 0.017661988735198975 \n",
            "Epoch: 1150 | MAE Train Loss: 0.049099151045084 | MAE Test Loss: 0.017661988735198975 \n",
            "Epoch: 1160 | MAE Train Loss: 0.049099151045084 | MAE Test Loss: 0.017661988735198975 \n",
            "Epoch: 1170 | MAE Train Loss: 0.049099151045084 | MAE Test Loss: 0.017661988735198975 \n",
            "Epoch: 1180 | MAE Train Loss: 0.049099151045084 | MAE Test Loss: 0.017661988735198975 \n",
            "Epoch: 1190 | MAE Train Loss: 0.049099151045084 | MAE Test Loss: 0.017661988735198975 \n",
            "Epoch: 1200 | MAE Train Loss: 0.049099151045084 | MAE Test Loss: 0.017661988735198975 \n",
            "Epoch: 1210 | MAE Train Loss: 0.049099151045084 | MAE Test Loss: 0.017661988735198975 \n",
            "Epoch: 1220 | MAE Train Loss: 0.049099151045084 | MAE Test Loss: 0.017661988735198975 \n",
            "Epoch: 1230 | MAE Train Loss: 0.049099151045084 | MAE Test Loss: 0.017661988735198975 \n",
            "Epoch: 1240 | MAE Train Loss: 0.049099151045084 | MAE Test Loss: 0.017661988735198975 \n",
            "Epoch: 1250 | MAE Train Loss: 0.049099151045084 | MAE Test Loss: 0.017661988735198975 \n",
            "Epoch: 1260 | MAE Train Loss: 0.049099151045084 | MAE Test Loss: 0.017661988735198975 \n",
            "Epoch: 1270 | MAE Train Loss: 0.049099151045084 | MAE Test Loss: 0.017661988735198975 \n",
            "Epoch: 1280 | MAE Train Loss: 0.049099151045084 | MAE Test Loss: 0.017661988735198975 \n",
            "Epoch: 1290 | MAE Train Loss: 0.049099151045084 | MAE Test Loss: 0.017661988735198975 \n",
            "Epoch: 1300 | MAE Train Loss: 0.049099151045084 | MAE Test Loss: 0.017661988735198975 \n",
            "Epoch: 1310 | MAE Train Loss: 0.049099151045084 | MAE Test Loss: 0.017661988735198975 \n",
            "Epoch: 1320 | MAE Train Loss: 0.049099151045084 | MAE Test Loss: 0.017661988735198975 \n",
            "Epoch: 1330 | MAE Train Loss: 0.049099151045084 | MAE Test Loss: 0.017661988735198975 \n",
            "Epoch: 1340 | MAE Train Loss: 0.049099151045084 | MAE Test Loss: 0.017661988735198975 \n",
            "Epoch: 1350 | MAE Train Loss: 0.049099151045084 | MAE Test Loss: 0.017661988735198975 \n",
            "Epoch: 1360 | MAE Train Loss: 0.049099151045084 | MAE Test Loss: 0.017661988735198975 \n",
            "Epoch: 1370 | MAE Train Loss: 0.049099151045084 | MAE Test Loss: 0.017661988735198975 \n",
            "Epoch: 1380 | MAE Train Loss: 0.049099151045084 | MAE Test Loss: 0.017661988735198975 \n",
            "Epoch: 1390 | MAE Train Loss: 0.049099151045084 | MAE Test Loss: 0.017661988735198975 \n",
            "Epoch: 1400 | MAE Train Loss: 0.049099151045084 | MAE Test Loss: 0.017661988735198975 \n",
            "Epoch: 1410 | MAE Train Loss: 0.049099151045084 | MAE Test Loss: 0.017661988735198975 \n",
            "Epoch: 1420 | MAE Train Loss: 0.049099151045084 | MAE Test Loss: 0.017661988735198975 \n",
            "Epoch: 1430 | MAE Train Loss: 0.049099151045084 | MAE Test Loss: 0.017661988735198975 \n",
            "Epoch: 1440 | MAE Train Loss: 0.049099151045084 | MAE Test Loss: 0.017661988735198975 \n",
            "Epoch: 1450 | MAE Train Loss: 0.049099151045084 | MAE Test Loss: 0.017661988735198975 \n",
            "Epoch: 1460 | MAE Train Loss: 0.049099151045084 | MAE Test Loss: 0.017661988735198975 \n",
            "Epoch: 1470 | MAE Train Loss: 0.049099151045084 | MAE Test Loss: 0.017661988735198975 \n",
            "Epoch: 1480 | MAE Train Loss: 0.049099151045084 | MAE Test Loss: 0.017661988735198975 \n",
            "Epoch: 1490 | MAE Train Loss: 0.049099151045084 | MAE Test Loss: 0.017661988735198975 \n",
            "Epoch: 1500 | MAE Train Loss: 0.049099151045084 | MAE Test Loss: 0.017661988735198975 \n",
            "Epoch: 1510 | MAE Train Loss: 0.049099151045084 | MAE Test Loss: 0.017661988735198975 \n",
            "Epoch: 1520 | MAE Train Loss: 0.049099151045084 | MAE Test Loss: 0.017661988735198975 \n",
            "Epoch: 1530 | MAE Train Loss: 0.049099151045084 | MAE Test Loss: 0.017661988735198975 \n",
            "Epoch: 1540 | MAE Train Loss: 0.049099151045084 | MAE Test Loss: 0.017661988735198975 \n",
            "Epoch: 1550 | MAE Train Loss: 0.049099151045084 | MAE Test Loss: 0.017661988735198975 \n",
            "Epoch: 1560 | MAE Train Loss: 0.049099151045084 | MAE Test Loss: 0.017661988735198975 \n",
            "Epoch: 1570 | MAE Train Loss: 0.049099151045084 | MAE Test Loss: 0.017661988735198975 \n",
            "Epoch: 1580 | MAE Train Loss: 0.049099151045084 | MAE Test Loss: 0.017661988735198975 \n",
            "Epoch: 1590 | MAE Train Loss: 0.049099151045084 | MAE Test Loss: 0.017661988735198975 \n",
            "Epoch: 1600 | MAE Train Loss: 0.049099151045084 | MAE Test Loss: 0.017661988735198975 \n",
            "Epoch: 1610 | MAE Train Loss: 0.049099151045084 | MAE Test Loss: 0.017661988735198975 \n",
            "Epoch: 1620 | MAE Train Loss: 0.049099151045084 | MAE Test Loss: 0.017661988735198975 \n",
            "Epoch: 1630 | MAE Train Loss: 0.049099151045084 | MAE Test Loss: 0.017661988735198975 \n",
            "Epoch: 1640 | MAE Train Loss: 0.049099151045084 | MAE Test Loss: 0.017661988735198975 \n",
            "Epoch: 1650 | MAE Train Loss: 0.049099151045084 | MAE Test Loss: 0.017661988735198975 \n",
            "Epoch: 1660 | MAE Train Loss: 0.049099151045084 | MAE Test Loss: 0.017661988735198975 \n",
            "Epoch: 1670 | MAE Train Loss: 0.049099151045084 | MAE Test Loss: 0.017661988735198975 \n",
            "Epoch: 1680 | MAE Train Loss: 0.049099151045084 | MAE Test Loss: 0.017661988735198975 \n",
            "Epoch: 1690 | MAE Train Loss: 0.049099151045084 | MAE Test Loss: 0.017661988735198975 \n",
            "Epoch: 1700 | MAE Train Loss: 0.049099151045084 | MAE Test Loss: 0.017661988735198975 \n",
            "Epoch: 1710 | MAE Train Loss: 0.049099151045084 | MAE Test Loss: 0.017661988735198975 \n",
            "Epoch: 1720 | MAE Train Loss: 0.049099151045084 | MAE Test Loss: 0.017661988735198975 \n",
            "Epoch: 1730 | MAE Train Loss: 0.049099151045084 | MAE Test Loss: 0.017661988735198975 \n",
            "Epoch: 1740 | MAE Train Loss: 0.049099151045084 | MAE Test Loss: 0.017661988735198975 \n",
            "Epoch: 1750 | MAE Train Loss: 0.049099151045084 | MAE Test Loss: 0.017661988735198975 \n",
            "Epoch: 1760 | MAE Train Loss: 0.049099151045084 | MAE Test Loss: 0.017661988735198975 \n",
            "Epoch: 1770 | MAE Train Loss: 0.049099151045084 | MAE Test Loss: 0.017661988735198975 \n",
            "Epoch: 1780 | MAE Train Loss: 0.049099151045084 | MAE Test Loss: 0.017661988735198975 \n",
            "Epoch: 1790 | MAE Train Loss: 0.049099151045084 | MAE Test Loss: 0.017661988735198975 \n",
            "Epoch: 1800 | MAE Train Loss: 0.049099151045084 | MAE Test Loss: 0.017661988735198975 \n",
            "Epoch: 1810 | MAE Train Loss: 0.049099151045084 | MAE Test Loss: 0.017661988735198975 \n",
            "Epoch: 1820 | MAE Train Loss: 0.049099151045084 | MAE Test Loss: 0.017661988735198975 \n",
            "Epoch: 1830 | MAE Train Loss: 0.049099151045084 | MAE Test Loss: 0.017661988735198975 \n",
            "Epoch: 1840 | MAE Train Loss: 0.049099151045084 | MAE Test Loss: 0.017661988735198975 \n",
            "Epoch: 1850 | MAE Train Loss: 0.049099151045084 | MAE Test Loss: 0.017661988735198975 \n",
            "Epoch: 1860 | MAE Train Loss: 0.049099151045084 | MAE Test Loss: 0.017661988735198975 \n",
            "Epoch: 1870 | MAE Train Loss: 0.049099151045084 | MAE Test Loss: 0.017661988735198975 \n",
            "Epoch: 1880 | MAE Train Loss: 0.049099151045084 | MAE Test Loss: 0.017661988735198975 \n",
            "Epoch: 1890 | MAE Train Loss: 0.049099151045084 | MAE Test Loss: 0.017661988735198975 \n",
            "Epoch: 1900 | MAE Train Loss: 0.049099151045084 | MAE Test Loss: 0.017661988735198975 \n",
            "Epoch: 1910 | MAE Train Loss: 0.049099151045084 | MAE Test Loss: 0.017661988735198975 \n",
            "Epoch: 1920 | MAE Train Loss: 0.049099151045084 | MAE Test Loss: 0.017661988735198975 \n",
            "Epoch: 1930 | MAE Train Loss: 0.049099151045084 | MAE Test Loss: 0.017661988735198975 \n",
            "Epoch: 1940 | MAE Train Loss: 0.049099151045084 | MAE Test Loss: 0.017661988735198975 \n",
            "Epoch: 1950 | MAE Train Loss: 0.049099151045084 | MAE Test Loss: 0.017661988735198975 \n",
            "Epoch: 1960 | MAE Train Loss: 0.049099151045084 | MAE Test Loss: 0.017661988735198975 \n",
            "Epoch: 1970 | MAE Train Loss: 0.049099151045084 | MAE Test Loss: 0.017661988735198975 \n",
            "Epoch: 1980 | MAE Train Loss: 0.049099151045084 | MAE Test Loss: 0.017661988735198975 \n",
            "Epoch: 1990 | MAE Train Loss: 0.049099151045084 | MAE Test Loss: 0.017661988735198975 \n"
          ]
        }
      ]
    },
    {
      "cell_type": "code",
      "source": [
        "# Plot the loss curves\n",
        "plt.plot(epoch_count, train_loss_values, label=\"Train loss\")\n",
        "plt.plot(epoch_count, test_loss_values, label=\"Test loss\")\n",
        "plt.title(\"Training and test loss curves\")\n",
        "plt.ylabel(\"Loss\")\n",
        "plt.xlabel(\"Epochs\")\n",
        "plt.legend();"
      ],
      "metadata": {
        "id": "mmXtzcjUpOud",
        "colab": {
          "base_uri": "https://localhost:8080/",
          "height": 472
        },
        "outputId": "47478834-6952-4cc5-c876-08fdb78d7530"
      },
      "execution_count": 15,
      "outputs": [
        {
          "output_type": "display_data",
          "data": {
            "text/plain": [
              "<Figure size 640x480 with 1 Axes>"
            ],
            "image/png": "[encoded data removed]"
          },
          "metadata": {}
        }
      ]
    },
    {
      "cell_type": "code",
      "source": [
        "print(\"The model learned the following values for weights and bias:\")\n",
        "print(model_0.state_dict())\n",
        "print(\"\\nAnd the original values for weights and bias are:\")\n",
        "print(f\"weights: {weight}, bias: {bias}\")"
      ],
      "metadata": {
        "id": "1j8sCBVtpO2n",
        "colab": {
          "base_uri": "https://localhost:8080/"
        },
        "outputId": "c2cae84b-5aeb-4604-a98f-ede0722bd021"
      },
      "execution_count": 16,
      "outputs": [
        {
          "output_type": "stream",
          "name": "stdout",
          "text": [
            "The model learned the following values for weights and bias:\n",
            "OrderedDict([('weights', tensor([0.9254])), ('bias', tensor([-0.0200]))])\n",
            "\n",
            "And the original values for weights and bias are:\n",
            "weights: 0.7, bias: 0.3\n"
          ]
        }
      ]
    },
    {
      "cell_type": "code",
      "source": [
        "model_0.eval()\n",
        "\n",
        "# 2. Setup the inference mode context manager\n",
        "with torch.inference_mode():\n",
        "  # 3. Make sure the calculations are done with the model and data on the same device\n",
        "  # in our case, we haven't setup device-agnostic code yet so our data and model are\n",
        "  # on the CPU by default.\n",
        "  # model_0.to(device)\n",
        "  # X_test = X_test.to(device)\n",
        "  pred_val = model_0(test_data)\n",
        "pred_val"
      ],
      "metadata": {
        "colab": {
          "base_uri": "https://localhost:8080/"
        },
        "id": "8UGKXs9zrEoa",
        "outputId": "4330a1b3-b0f9-44a3-8679-4ac44a5580b2"
      },
      "execution_count": 17,
      "outputs": [
        {
          "output_type": "execute_result",
          "data": {
            "text/plain": [
              "tensor([[0.7203],\n",
              "        [0.7388],\n",
              "        [0.7574],\n",
              "        [0.7759],\n",
              "        [0.7944],\n",
              "        [0.8129],\n",
              "        [0.8314],\n",
              "        [0.8499],\n",
              "        [0.8684],\n",
              "        [0.8869]])"
            ]
          },
          "metadata": {},
          "execution_count": 17
        }
      ]
    },
    {
      "cell_type": "code",
      "source": [
        "plot_pred(predictions=pred_val)"
      ],
      "metadata": {
        "colab": {
          "base_uri": "https://localhost:8080/",
          "height": 445
        },
        "id": "H3CMlsUzrZPR",
        "outputId": "507ee748-0660-4e5a-994d-90543fa0f641"
      },
      "execution_count": 18,
      "outputs": [
        {
          "output_type": "display_data",
          "data": {
            "text/plain": [
              "<Figure size 800x500 with 1 Axes>"
            ],
            "image/png": "[encoded data removed]"
          },
          "metadata": {}
        }
      ]
    },
    {
      "cell_type": "code",
      "source": [
        "from pathlib import Path\n",
        "\n",
        "# 1. Create models directory\n",
        "MODEL_PATH = Path(\"models\")\n",
        "MODEL_PATH.mkdir(parents=True, exist_ok=True)\n",
        "\n",
        "# 2. Create model save path\n",
        "MODEL_NAME = \"01_pytorch_workflow_model_1.pth\"\n",
        "MODEL_SAVE_PATH = MODEL_PATH / MODEL_NAME\n",
        "\n",
        "# 3. Save the model state dict\n",
        "print(f\"Saving model to: {MODEL_SAVE_PATH}\")\n",
        "torch.save(obj=model_0.state_dict(), # only saving the state_dict() only saves the models learned parameters\n",
        "           f=MODEL_SAVE_PATH)"
      ],
      "metadata": {
        "colab": {
          "base_uri": "https://localhost:8080/"
        },
        "id": "bObyDBYW2S3Y",
        "outputId": "6ff0359a-349b-4a8f-ae3d-1fd7327d4bed"
      },
      "execution_count": 19,
      "outputs": [
        {
          "output_type": "stream",
          "name": "stdout",
          "text": [
            "Saving model to: models/01_pytorch_workflow_model_1.pth\n"
          ]
        }
      ]
    },
    {
      "cell_type": "code",
      "source": [
        "loaded_model_1 = LinearRegressionModule()\n",
        "\n",
        "# Load model state dict\n",
        "loaded_model_1.load_state_dict(torch.load(MODEL_SAVE_PATH))\n",
        "print(f\"Loaded model:\\n{loaded_model_1}\")\n",
        "print(f\"Model on device:\\n{next(loaded_model_1.parameters()).device}\")"
      ],
      "metadata": {
        "colab": {
          "base_uri": "https://localhost:8080/"
        },
        "id": "eGJUFJMl23Xw",
        "outputId": "4c88d4da-31a8-402e-d80b-1a5f602c0cd6"
      },
      "execution_count": 20,
      "outputs": [
        {
          "output_type": "stream",
          "name": "stdout",
          "text": [
            "Loaded model:\n",
            "LinearRegressionModule()\n",
            "Model on device:\n",
            "cpu\n"
          ]
        }
      ]
    },
    {
      "cell_type": "code",
      "source": [
        "loaded_model_1.eval()\n",
        "with torch.inference_mode():\n",
        "    loaded_model_1_preds = loaded_model_1(test_data)\n",
        "pred_val == loaded_model_1_preds"
      ],
      "metadata": {
        "colab": {
          "base_uri": "https://localhost:8080/"
        },
        "id": "Yc6uYy7J3Vku",
        "outputId": "d521315a-0936-4a5a-c952-43059dd9b263"
      },
      "execution_count": 21,
      "outputs": [
        {
          "output_type": "execute_result",
          "data": {
            "text/plain": [
              "tensor([[True],\n",
              "        [True],\n",
              "        [True],\n",
              "        [True],\n",
              "        [True],\n",
              "        [True],\n",
              "        [True],\n",
              "        [True],\n",
              "        [True],\n",
              "        [True]])"
            ]
          },
          "metadata": {},
          "execution_count": 21
        }
      ]
    }
  ]
}